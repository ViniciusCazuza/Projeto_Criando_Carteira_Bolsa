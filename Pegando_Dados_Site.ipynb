{
 "cells": [
  {
   "cell_type": "markdown",
   "metadata": {},
   "source": [
    "# Projeto 2: Como pegar dados em sites e automatizar a criação da carteira do nosso modelo de investimento.\n",
    "\n",
    "### Desafio:\n",
    "\n",
    "* Construir um código que vá no fundamentus.com e busque dados de todos os indicadores da bolsa brasileira e gere a carteira selecionando as maiores ev_ebit e roic.    \n",
    "\n",
    "\n",
    "### Passo a passo:\n",
    "\n",
    "   **Passo 1** - Definir um navegador que você irá utilizar para navegar com o Python.\n",
    "\n",
    "   **Passo 2** - Importar os módulos e bibliotecas.\n",
    "   \n",
    "   **Passo 3** - Entender como sites e requisições na internet funcionam.\n",
    "   \n",
    "   **Passo 4** - Conhecer e mapear o processo de coleta de dados no site do Fundamentus. \n",
    "   \n",
    "   **Passo 5** - Ler a tabela de dados.\n",
    "   \n",
    "   **Passo 6** - Construir a tabela final."
   ]
  },
  {
   "cell_type": "code",
   "execution_count": 1,
   "metadata": {},
   "outputs": [
    {
     "name": "stdout",
     "output_type": "stream",
     "text": [
      "hello worlds\n"
     ]
    }
   ],
   "source": [
    "print (\"hello worlds\")"
   ]
  }
 ],
 "metadata": {
  "kernelspec": {
   "display_name": ".venv",
   "language": "python",
   "name": "python3"
  },
  "language_info": {
   "codemirror_mode": {
    "name": "ipython",
    "version": 3
   },
   "file_extension": ".py",
   "mimetype": "text/x-python",
   "name": "python",
   "nbconvert_exporter": "python",
   "pygments_lexer": "ipython3",
   "version": "3.8.2"
  }
 },
 "nbformat": 4,
 "nbformat_minor": 2
}
